{
 "cells": [
  {
   "cell_type": "markdown",
   "metadata": {},
   "source": [
    "# This Tool Answers the Question: If you were to give x to y portfolio of charities, what impact would you expect to have?"
   ]
  },
  {
   "cell_type": "markdown",
   "metadata": {},
   "source": [
    "This tool allows OFTW to tell a donor what their impact will be if they pledge or increase their pledge. Steve built this because he thought it would be helpful to be able to tell people this when he tries to engage and upsell them.\n",
    "\n",
    "The impact calculations we use here are sourced from The Life You Can Save, and are the same calcs used for OFTW's organization wide and personalized impact calculations."
   ]
  },
  {
   "cell_type": "markdown",
   "metadata": {},
   "source": [
    "## How to use:\n",
    "1) Click the run button of hit shift + enter to move through each 'block' of code<br>\n",
    "2) Input donation size and portfolio of charities where it is asked for below. For the charities, use the abbreviations shown in the table below<br>\n",
    "3) Keep shift+enter -ing to the end and you'll get the output"
   ]
  },
  {
   "cell_type": "code",
   "execution_count": 2,
   "metadata": {},
   "outputs": [],
   "source": [
    "# import packages\n",
    "import numpy as np\n",
    "import pandas as pd"
   ]
  },
  {
   "cell_type": "code",
   "execution_count": 3,
   "metadata": {},
   "outputs": [],
   "source": [
    "# read in the impact calcs\n",
    "ic_raw = pd.read_csv('OFTW Impact Calculator - Impact Export.csv',sep=',')\n",
    "ic = ic_raw.set_index('Charity')\n",
    "\n",
    "#strip the \"Impact\" from columns\n",
    "ic.index = ic.index.str.replace(\" Impact\",\"\")"
   ]
  },
  {
   "cell_type": "markdown",
   "metadata": {},
   "source": [
    "## Below outputs the list of charities - use these abbreviations to define your portfolio"
   ]
  },
  {
   "cell_type": "code",
   "execution_count": 4,
   "metadata": {},
   "outputs": [
    {
     "data": {
      "text/html": [
       "<div>\n",
       "<style scoped>\n",
       "    .dataframe tbody tr th:only-of-type {\n",
       "        vertical-align: middle;\n",
       "    }\n",
       "\n",
       "    .dataframe tbody tr th {\n",
       "        vertical-align: top;\n",
       "    }\n",
       "\n",
       "    .dataframe thead th {\n",
       "        text-align: right;\n",
       "    }\n",
       "</style>\n",
       "<table border=\"1\" class=\"dataframe\">\n",
       "  <thead>\n",
       "    <tr style=\"text-align: right;\">\n",
       "      <th></th>\n",
       "      <th>Metric</th>\n",
       "      <th>Dollars Per Unit of Metric</th>\n",
       "    </tr>\n",
       "    <tr>\n",
       "      <th>Charity</th>\n",
       "      <th></th>\n",
       "      <th></th>\n",
       "    </tr>\n",
       "  </thead>\n",
       "  <tbody>\n",
       "    <tr>\n",
       "      <th>AMF</th>\n",
       "      <td># of bednets provided to people to prevent Mal...</td>\n",
       "      <td>2.50</td>\n",
       "    </tr>\n",
       "    <tr>\n",
       "      <th>DSW</th>\n",
       "      <td># of people with clean water</td>\n",
       "      <td>1.19</td>\n",
       "    </tr>\n",
       "    <tr>\n",
       "      <th>EA</th>\n",
       "      <td># of people with clean water</td>\n",
       "      <td>1.19</td>\n",
       "    </tr>\n",
       "    <tr>\n",
       "      <th>SCI</th>\n",
       "      <td># of chidlren dewormed</td>\n",
       "      <td>1.36</td>\n",
       "    </tr>\n",
       "    <tr>\n",
       "      <th>LG</th>\n",
       "      <td># of people receiving health products / services</td>\n",
       "      <td>2.08</td>\n",
       "    </tr>\n",
       "    <tr>\n",
       "      <th>PSI</th>\n",
       "      <td>Years of healthy life</td>\n",
       "      <td>20.00</td>\n",
       "    </tr>\n",
       "    <tr>\n",
       "      <th>Possible</th>\n",
       "      <td>high quality healthcare</td>\n",
       "      <td>50.00</td>\n",
       "    </tr>\n",
       "    <tr>\n",
       "      <th>GD</th>\n",
       "      <td>dollars given directly to a person in need</td>\n",
       "      <td>1.10</td>\n",
       "    </tr>\n",
       "    <tr>\n",
       "      <th>DMI</th>\n",
       "      <td>Years of healthy life</td>\n",
       "      <td>20.00</td>\n",
       "    </tr>\n",
       "    <tr>\n",
       "      <th>FF</th>\n",
       "      <td># of women transported to the hospital to avoi...</td>\n",
       "      <td>33.30</td>\n",
       "    </tr>\n",
       "    <tr>\n",
       "      <th>FHF</th>\n",
       "      <td># of people saved from blindness</td>\n",
       "      <td>12.50</td>\n",
       "    </tr>\n",
       "    <tr>\n",
       "      <th>GAIN</th>\n",
       "      <td># of individuals provided with idodized salt t...</td>\n",
       "      <td>0.20</td>\n",
       "    </tr>\n",
       "    <tr>\n",
       "      <th>IGN</th>\n",
       "      <td>years of healthy life</td>\n",
       "      <td>50.00</td>\n",
       "    </tr>\n",
       "    <tr>\n",
       "      <th>VE</th>\n",
       "      <td># of Participants funded in a microloan scheme</td>\n",
       "      <td>250.00</td>\n",
       "    </tr>\n",
       "    <tr>\n",
       "      <th>IPA</th>\n",
       "      <td>dollars routed to innovative research on preve...</td>\n",
       "      <td>1.03</td>\n",
       "    </tr>\n",
       "    <tr>\n",
       "      <th>OAF</th>\n",
       "      <td># of families with the tools to increase their...</td>\n",
       "      <td>33.33</td>\n",
       "    </tr>\n",
       "    <tr>\n",
       "      <th>OI</th>\n",
       "      <td># of households with seeds and tools for farming</td>\n",
       "      <td>100.00</td>\n",
       "    </tr>\n",
       "    <tr>\n",
       "      <th>PHC</th>\n",
       "      <td># of people provided with micronutrient fortif...</td>\n",
       "      <td>0.26</td>\n",
       "    </tr>\n",
       "    <tr>\n",
       "      <th>Seva</th>\n",
       "      <td># of people who receive a surgery to restore t...</td>\n",
       "      <td>50.00</td>\n",
       "    </tr>\n",
       "    <tr>\n",
       "      <th>HKI</th>\n",
       "      <td>Cost to deliver a Vitamin A supplement to a ch...</td>\n",
       "      <td>1.00</td>\n",
       "    </tr>\n",
       "    <tr>\n",
       "      <th>D-Rev</th>\n",
       "      <td>Cost to provide an additional year of quality ...</td>\n",
       "      <td>26.00</td>\n",
       "    </tr>\n",
       "  </tbody>\n",
       "</table>\n",
       "</div>"
      ],
      "text/plain": [
       "                                                     Metric  \\\n",
       "Charity                                                       \n",
       "AMF       # of bednets provided to people to prevent Mal...   \n",
       "DSW                            # of people with clean water   \n",
       "EA                             # of people with clean water   \n",
       "SCI                                  # of chidlren dewormed   \n",
       "LG         # of people receiving health products / services   \n",
       "PSI                                   Years of healthy life   \n",
       "Possible                            high quality healthcare   \n",
       "GD               dollars given directly to a person in need   \n",
       "DMI                                   Years of healthy life   \n",
       "FF        # of women transported to the hospital to avoi...   \n",
       "FHF                        # of people saved from blindness   \n",
       "GAIN      # of individuals provided with idodized salt t...   \n",
       "IGN                                   years of healthy life   \n",
       "VE           # of Participants funded in a microloan scheme   \n",
       "IPA       dollars routed to innovative research on preve...   \n",
       "OAF       # of families with the tools to increase their...   \n",
       "OI         # of households with seeds and tools for farming   \n",
       "PHC       # of people provided with micronutrient fortif...   \n",
       "Seva      # of people who receive a surgery to restore t...   \n",
       "HKI       Cost to deliver a Vitamin A supplement to a ch...   \n",
       "D-Rev     Cost to provide an additional year of quality ...   \n",
       "\n",
       "          Dollars Per Unit of Metric  \n",
       "Charity                               \n",
       "AMF                             2.50  \n",
       "DSW                             1.19  \n",
       "EA                              1.19  \n",
       "SCI                             1.36  \n",
       "LG                              2.08  \n",
       "PSI                            20.00  \n",
       "Possible                       50.00  \n",
       "GD                              1.10  \n",
       "DMI                            20.00  \n",
       "FF                             33.30  \n",
       "FHF                            12.50  \n",
       "GAIN                            0.20  \n",
       "IGN                            50.00  \n",
       "VE                            250.00  \n",
       "IPA                             1.03  \n",
       "OAF                            33.33  \n",
       "OI                            100.00  \n",
       "PHC                             0.26  \n",
       "Seva                           50.00  \n",
       "HKI                             1.00  \n",
       "D-Rev                          26.00  "
      ]
     },
     "execution_count": 4,
     "metadata": {},
     "output_type": "execute_result"
    }
   ],
   "source": [
    "ic"
   ]
  },
  {
   "cell_type": "markdown",
   "metadata": {},
   "source": [
    "## Input the donation amount and portfolio of charities you want to consider\n",
    "The tool assumes the donations are split evenly among the charities, which is how our portfolios work. You can always run the tool individually for each charity if you have custom splits."
   ]
  },
  {
   "cell_type": "code",
   "execution_count": 5,
   "metadata": {},
   "outputs": [],
   "source": [
    "dollars = 600\n",
    "portfolio = [\"AMF\",\"GD\",\"SCI\"]\n",
    "dollars_per_charity = dollars / len(portfolio)"
   ]
  },
  {
   "cell_type": "markdown",
   "metadata": {},
   "source": [
    "## Here is where the magic happens"
   ]
  },
  {
   "cell_type": "code",
   "execution_count": 6,
   "metadata": {},
   "outputs": [],
   "source": [
    "impacts = []\n",
    "\n",
    "for charity in portfolio:\n",
    "    unit_impact_int = int(dollars_per_charity / ic.loc[charity,\"Dollars Per Unit of Metric\"])\n",
    "    impact = str(unit_impact_int) + \" \" + ic.loc[charity,\"Metric\"]\n",
    "    # replace the \"# of\" language which is awkward\n",
    "    impact = impact.replace(\"# of \",\"\")\n",
    "    impacts.append(impact)\n",
    "\n",
    "\n",
    "columns = [\"Charity\",\"Impact\"]\n",
    "imp = pd.DataFrame(list(zip(portfolio,impacts)))\n",
    "imp.columns = columns\n",
    "output_imp = imp.set_index('Charity')"
   ]
  },
  {
   "cell_type": "markdown",
   "metadata": {},
   "source": [
    "## Here are your results, as a table and as strings of text you can paste into emails"
   ]
  },
  {
   "cell_type": "code",
   "execution_count": 7,
   "metadata": {},
   "outputs": [
    {
     "name": "stdout",
     "output_type": "stream",
     "text": [
      "['80 bednets provided to people to prevent Malaria', '181 dollars given directly to a person in need', '147 chidlren dewormed']\n"
     ]
    },
    {
     "data": {
      "text/html": [
       "<div>\n",
       "<style scoped>\n",
       "    .dataframe tbody tr th:only-of-type {\n",
       "        vertical-align: middle;\n",
       "    }\n",
       "\n",
       "    .dataframe tbody tr th {\n",
       "        vertical-align: top;\n",
       "    }\n",
       "\n",
       "    .dataframe thead th {\n",
       "        text-align: right;\n",
       "    }\n",
       "</style>\n",
       "<table border=\"1\" class=\"dataframe\">\n",
       "  <thead>\n",
       "    <tr style=\"text-align: right;\">\n",
       "      <th></th>\n",
       "      <th>Impact</th>\n",
       "    </tr>\n",
       "    <tr>\n",
       "      <th>Charity</th>\n",
       "      <th></th>\n",
       "    </tr>\n",
       "  </thead>\n",
       "  <tbody>\n",
       "    <tr>\n",
       "      <th>AMF</th>\n",
       "      <td>80 bednets provided to people to prevent Malaria</td>\n",
       "    </tr>\n",
       "    <tr>\n",
       "      <th>GD</th>\n",
       "      <td>181 dollars given directly to a person in need</td>\n",
       "    </tr>\n",
       "    <tr>\n",
       "      <th>SCI</th>\n",
       "      <td>147 chidlren dewormed</td>\n",
       "    </tr>\n",
       "  </tbody>\n",
       "</table>\n",
       "</div>"
      ],
      "text/plain": [
       "                                                   Impact\n",
       "Charity                                                  \n",
       "AMF      80 bednets provided to people to prevent Malaria\n",
       "GD         181 dollars given directly to a person in need\n",
       "SCI                                 147 chidlren dewormed"
      ]
     },
     "execution_count": 7,
     "metadata": {},
     "output_type": "execute_result"
    }
   ],
   "source": [
    "print(impacts)\n",
    "output_imp"
   ]
  },
  {
   "cell_type": "code",
   "execution_count": null,
   "metadata": {},
   "outputs": [],
   "source": []
  },
  {
   "cell_type": "code",
   "execution_count": null,
   "metadata": {},
   "outputs": [],
   "source": []
  }
 ],
 "metadata": {
  "kernelspec": {
   "display_name": "Python 3",
   "language": "python",
   "name": "python3"
  },
  "language_info": {
   "codemirror_mode": {
    "name": "ipython",
    "version": 3
   },
   "file_extension": ".py",
   "mimetype": "text/x-python",
   "name": "python",
   "nbconvert_exporter": "python",
   "pygments_lexer": "ipython3",
   "version": "3.6.4"
  }
 },
 "nbformat": 4,
 "nbformat_minor": 2
}
